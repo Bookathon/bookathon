{
 "cells": [
  {
   "attachments": {},
   "cell_type": "markdown",
   "metadata": {},
   "source": [
    "pip install selenium==3.141\n",
    "\n",
    "pip install webdriver-manager\n",
    "\n",
    "이 두개 까세용"
   ]
  },
  {
   "cell_type": "code",
   "execution_count": null,
   "metadata": {},
   "outputs": [],
   "source": [
    "from selenium import webdriver\n",
    "from selenium.webdriver.common.keys import Keys\n",
    "import time\n",
    "\n",
    "from webdriver_manager.chrome import ChromeDriverManager"
   ]
  },
  {
   "cell_type": "code",
   "execution_count": null,
   "metadata": {},
   "outputs": [],
   "source": [
    "webdriver_options = webdriver.ChromeOptions()\n",
    "#크롬창 따로 안열고 백그라운드로 실행하려면 헤드리스\n",
    "webdriver_options.add_argument('headless')\n",
    "driver = webdriver.Chrome(ChromeDriverManager().install(), options=webdriver_options)"
   ]
  },
  {
   "cell_type": "code",
   "execution_count": null,
   "metadata": {},
   "outputs": [],
   "source": [
    "# 여기 주소에다가 크롤링할 페이지 주소 똑같이 두개 넣으면 됨\n",
    "driver.get(url='https://brunch.co.kr/keyword/%EC%88%9C%EA%B0%84')\n",
    "driver.get(url='https://brunch.co.kr/keyword/%EC%88%9C%EA%B0%84')"
   ]
  },
  {
   "cell_type": "code",
   "execution_count": null,
   "metadata": {},
   "outputs": [],
   "source": [
    "print(driver.current_url)"
   ]
  },
  {
   "cell_type": "code",
   "execution_count": 26,
   "metadata": {},
   "outputs": [
    {
     "name": "stdout",
     "output_type": "stream",
     "text": [
      "now we will save P( 1141 )  ~ P( 1150 )\n",
      "can not open 1141\n",
      "no text in 1144\n",
      "no text in 1150\n",
      "now we will save P( 1151 )  ~ P( 1160 )\n",
      "can not open 1151\n",
      "no text in 1154\n",
      "no text in 1157\n",
      "now we will save P( 1161 )  ~ P( 1170 )\n",
      "can not open 1161\n",
      "no text in 1164\n",
      "no text in 1167\n",
      "no text in 1169\n",
      "no text in 1170\n",
      "now we will save P( 1171 )  ~ P( 1180 )\n",
      "can not open 1171\n",
      "no text in 1174\n",
      "no text in 1177\n",
      "now we will save P( 1181 )  ~ P( 1190 )\n",
      "can not open 1181\n",
      "no text in 1189\n",
      "no text in 1190\n"
     ]
    }
   ],
   "source": [
    "post_num=1\n",
    "save_num=1\n",
    "before_h = driver.execute_script(\"return document.body.scrollHeight\")\n",
    "after_h=0\n",
    "SCROLL_PAUSE_TIME = 1\n",
    "\n",
    "while True:\n",
    "    print(\"now we will save P(\",post_num,\")\",\" ~ P(\",post_num+9,\")\")\n",
    "    \n",
    "    for num in range(post_num, post_num+10):\n",
    "        try:\n",
    "            post = driver.find_element_by_css_selector(f'#wrapArticle > div.wrap_article_list.\\#keyword_related_contents > ul > li:nth-child({num}) > a').click()\n",
    "        except:\n",
    "            print(\"can not open\",num)\n",
    "            continue\n",
    "\n",
    "        driver.switch_to.window(driver.window_handles[-1])\n",
    "        \n",
    "        flag=1\n",
    "        # 파일 경로 지정 잘하기!!\n",
    "        try:\n",
    "            text = driver.find_element_by_css_selector('body > div.service_contents.article_contents.\\#post_view > div.wrap_view_article.wrap_article.article_view_disable_selection > div.wrap_body_frame > div.wrap_body.text_align_left.finish_txt').text\n",
    "        except:\n",
    "            print(\"no text in\",num)\n",
    "            flag=0\n",
    "\n",
    "        if flag==1:\n",
    "            f=open(f'./dataset/{save_num}.txt','w')\n",
    "            save_num+=1\n",
    "            f.write(text)\n",
    "            f.close()\n",
    "        driver.switch_to.window(driver.window_handles[0])\n",
    "        \n",
    "    \n",
    "    driver.execute_script(\"window.scrollTo(0, document.body.scrollHeight);\")\n",
    "    time.sleep(2)\n",
    "    after_h = driver.execute_script(\"return document.body.scrollHeight\")\n",
    "    \n",
    "    if before_h==after_h:\n",
    "        break\n",
    "    before_h=after_h\n",
    "    post_num+=10"
   ]
  },
  {
   "cell_type": "code",
   "execution_count": null,
   "metadata": {},
   "outputs": [],
   "source": []
  }
 ],
 "metadata": {
  "kernelspec": {
   "display_name": "base",
   "language": "python",
   "name": "python3"
  },
  "language_info": {
   "codemirror_mode": {
    "name": "ipython",
    "version": 3
   },
   "file_extension": ".py",
   "mimetype": "text/x-python",
   "name": "python",
   "nbconvert_exporter": "python",
   "pygments_lexer": "ipython3",
   "version": "3.9.7 (default, Sep 16 2021, 13:09:58) \n[GCC 7.5.0]"
  },
  "orig_nbformat": 4,
  "vscode": {
   "interpreter": {
    "hash": "4d52b7339183c6e2589e0d57b14d6a23c7d580e07969a7ad08f6a7daf002647c"
   }
  }
 },
 "nbformat": 4,
 "nbformat_minor": 2
}
